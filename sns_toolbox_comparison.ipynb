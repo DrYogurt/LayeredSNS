{
 "cells": [
  {
   "cell_type": "code",
   "execution_count": 2,
   "metadata": {},
   "outputs": [],
   "source": [
    "import torch\n",
    "    \n",
    "import sns_toolbox\n",
    "from sns_toolbox.connections import NonSpikingPatternConnection\n",
    "from sns_toolbox.networks import Network\n",
    "from sns_toolbox.neurons import NonSpikingNeuron\n",
    "from sns_toolbox.renderer import render\n",
    "\n",
    "import numpy as np\n",
    "import matplotlib.pyplot as plt\n",
    "import cv2 as cv\n",
    "import sys\n",
    "\n",
    "from conductance_network import GsynModule, ConductanceLayerMulti, ConductanceNetwork"
   ]
  },
  {
   "cell_type": "code",
   "execution_count": 3,
   "metadata": {},
   "outputs": [
    {
     "data": {
      "text/plain": [
       "(-0.5, 31.5, 31.5, -0.5)"
      ]
     },
     "execution_count": 3,
     "metadata": {},
     "output_type": "execute_result"
    },
    {
     "data": {
      "image/png": "[encoded data removed]",
      "text/plain": [
       "<Figure size 640x480 with 1 Axes>"
      ]
     },
     "metadata": {},
     "output_type": "display_data"
    }
   ],
   "source": [
    "#dirname = os.path.dirname(__file__)\n",
    "#filename = os.path.join(dirname, 'relative/path/to/file/you/want')\n",
    "\n",
    "img = cv.imread('cat_example.jpg')   # load image file\n",
    "\n",
    "if img is None:\n",
    "    sys.exit('Could not find image')\n",
    "shape_original = img.shape  # dimensions of the original image\n",
    "dim_long = max(shape_original[0],shape_original[1]) # longest dimension of the original image\n",
    "dim_desired_max = 32    # constrain the longest dimension for easier processing\n",
    "ratio = dim_desired_max/dim_long    # scaling ratio of original image\n",
    "img_resized = cv.resize(img,None,fx=ratio,fy=ratio) # scale original image using ratio\n",
    "\n",
    "img_color = cv.cvtColor(img, cv.COLOR_BGR2RGB)  # transform the image from BGR to RGB\n",
    "img_color_resized = cv.cvtColor(img_resized, cv.COLOR_BGR2RGB)  # resize the RGB image\n",
    "img_gray = cv.cvtColor(img_resized, cv.COLOR_BGR2GRAY)  # convert the resized image to grayscale [0-255]\n",
    "\n",
    "shape = img_gray.shape  # dimensions of the resized grayscale image\n",
    "\n",
    "img_flat = img_gray.flatten()   # flatten the image into 1 vector for neural processing\n",
    "flat_size = len(img_flat)   # length of the flattened image vector\n",
    "\n",
    "plt.figure()\n",
    "plt.imshow(img_gray,cmap='gray')\n",
    "plt.axis('off')"
   ]
  },
  {
   "cell_type": "markdown",
   "metadata": {},
   "source": [
    "## Making the SNS Toolbox Model\n"
   ]
  },
  {
   "cell_type": "code",
   "execution_count": 4,
   "metadata": {},
   "outputs": [
    {
     "data": {
      "image/svg+xml": [
       "<?xml version=\"1.0\" encoding=\"UTF-8\" standalone=\"no\"?>\n",
       "<!DOCTYPE svg PUBLIC \"-//W3C//DTD SVG 1.1//EN\"\n",
       " \"http://www.w3.org/Graphics/SVG/1.1/DTD/svg11.dtd\">\n",
       "<!-- Generated by graphviz version 8.1.0 (0)\n",
       " -->\n",
       "<!-- Pages: 1 -->\n",
       "<svg width=\"371pt\" height=\"260pt\"\n",
       " viewBox=\"0.00 0.00 370.53 260.00\" xmlns=\"http://www.w3.org/2000/svg\" xmlns:xlink=\"http://www.w3.org/1999/xlink\">\n",
       "<g id=\"graph0\" class=\"graph\" transform=\"scale(1 1) rotate(0) translate(4 256)\">\n",
       "<polygon fill=\"white\" stroke=\"none\" points=\"-4,4 -4,-256 366.53,-256 366.53,4 -4,4\"/>\n",
       "<!-- 0 -->\n",
       "<g id=\"node1\" class=\"node\">\n",
       "<title>0</title>\n",
       "<polygon fill=\"white\" stroke=\"black\" points=\"215.12,-180 156.62,-180 152.62,-176 152.62,-144 211.12,-144 215.12,-148 215.12,-180\"/>\n",
       "<polyline fill=\"none\" stroke=\"black\" points=\"211.12,-176 152.62,-176\"/>\n",
       "<polyline fill=\"none\" stroke=\"black\" points=\"211.12,-176 211.12,-144\"/>\n",
       "<polyline fill=\"none\" stroke=\"black\" points=\"211.12,-176 215.12,-180\"/>\n",
       "<text text-anchor=\"middle\" x=\"183.87\" y=\"-157.32\" font-family=\"Times,serif\" font-size=\"14.00\">Retina</text>\n",
       "</g>\n",
       "<!-- 1 -->\n",
       "<g id=\"node2\" class=\"node\">\n",
       "<title>1</title>\n",
       "<polygon fill=\"white\" stroke=\"black\" points=\"141.12,-108 76.62,-108 72.62,-104 72.62,-72 137.12,-72 141.12,-76 141.12,-108\"/>\n",
       "<polyline fill=\"none\" stroke=\"black\" points=\"137.12,-104 72.62,-104\"/>\n",
       "<polyline fill=\"none\" stroke=\"black\" points=\"137.12,-104 137.12,-72\"/>\n",
       "<polyline fill=\"none\" stroke=\"black\" points=\"137.12,-104 141.12,-108\"/>\n",
       "<text text-anchor=\"middle\" x=\"106.87\" y=\"-85.33\" font-family=\"Times,serif\" font-size=\"14.00\">Lamina</text>\n",
       "</g>\n",
       "<!-- 0&#45;&gt;1 -->\n",
       "<g id=\"edge4\" class=\"edge\">\n",
       "<title>0&#45;&gt;1</title>\n",
       "<path fill=\"none\" stroke=\"black\" d=\"M164.83,-143.7C155.3,-135.03 143.61,-124.4 133.23,-114.96\"/>\n",
       "<polygon fill=\"black\" stroke=\"black\" points=\"125.95,-108.35 136.38,-111.74 129.65,-111.71 133.35,-115.07 133.35,-115.07 133.35,-115.07 129.65,-111.71 130.32,-118.4 125.95,-108.35 125.95,-108.35\"/>\n",
       "</g>\n",
       "<!-- Out0 -->\n",
       "<g id=\"node4\" class=\"node\">\n",
       "<title>Out0</title>\n",
       "<polygon fill=\"white\" stroke=\"black\" points=\"362.53,-95.56 260.87,-108 159.2,-95.56 159.3,-75.44 362.44,-75.44 362.53,-95.56\"/>\n",
       "<polyline fill=\"none\" stroke=\"black\" points=\"267.53,-107.19 254.21,-107.19\"/>\n",
       "<polyline fill=\"none\" stroke=\"black\" points=\"165.86,-96.38 159.23,-88.85\"/>\n",
       "<polyline fill=\"none\" stroke=\"black\" points=\"159.27,-82.15 166.01,-75.44\"/>\n",
       "<polyline fill=\"none\" stroke=\"black\" points=\"355.73,-75.44 362.47,-82.15\"/>\n",
       "<polyline fill=\"none\" stroke=\"black\" points=\"362.5,-88.85 355.87,-96.38\"/>\n",
       "<text text-anchor=\"middle\" x=\"260.87\" y=\"-85.33\" font-family=\"Times,serif\" font-size=\"14.00\">Retina Output</text>\n",
       "</g>\n",
       "<!-- 0&#45;&gt;Out0 -->\n",
       "<g id=\"edge2\" class=\"edge\">\n",
       "<title>0&#45;&gt;Out0</title>\n",
       "<path fill=\"none\" stroke=\"black\" d=\"M202.9,-143.7C212.98,-134.53 225.47,-123.18 236.28,-113.35\"/>\n",
       "<polygon fill=\"black\" stroke=\"black\" points=\"238.1,-116.52 243.14,-107.2 233.39,-111.34 238.1,-116.52\"/>\n",
       "</g>\n",
       "<!-- Out1 -->\n",
       "<g id=\"node5\" class=\"node\">\n",
       "<title>Out1</title>\n",
       "<polygon fill=\"white\" stroke=\"black\" points=\"213.73,-23.56 106.87,-36 0,-23.56 0.1,-3.44 213.63,-3.44 213.73,-23.56\"/>\n",
       "<polyline fill=\"none\" stroke=\"black\" points=\"113.53,-35.22 100.2,-35.22\"/>\n",
       "<polyline fill=\"none\" stroke=\"black\" points=\"6.66,-24.34 0.03,-16.85\"/>\n",
       "<polyline fill=\"none\" stroke=\"black\" points=\"0.07,-10.15 6.81,-3.44\"/>\n",
       "<polyline fill=\"none\" stroke=\"black\" points=\"206.93,-3.44 213.67,-10.15\"/>\n",
       "<polyline fill=\"none\" stroke=\"black\" points=\"213.7,-16.85 207.07,-24.34\"/>\n",
       "<text text-anchor=\"middle\" x=\"106.87\" y=\"-13.33\" font-family=\"Times,serif\" font-size=\"14.00\">Lamina Output</text>\n",
       "</g>\n",
       "<!-- 1&#45;&gt;Out1 -->\n",
       "<g id=\"edge3\" class=\"edge\">\n",
       "<title>1&#45;&gt;Out1</title>\n",
       "<path fill=\"none\" stroke=\"black\" d=\"M106.87,-71.7C106.87,-64.24 106.87,-55.32 106.87,-46.97\"/>\n",
       "<polygon fill=\"black\" stroke=\"black\" points=\"110.37,-47.1 106.87,-37.1 103.37,-47.1 110.37,-47.1\"/>\n",
       "</g>\n",
       "<!-- In0 -->\n",
       "<g id=\"node3\" class=\"node\">\n",
       "<title>In0</title>\n",
       "<polygon fill=\"white\" stroke=\"black\" points=\"131.63,-228.44 183.87,-216 236.11,-228.44 236.06,-248.56 131.67,-248.56 131.63,-228.44\"/>\n",
       "<polyline fill=\"none\" stroke=\"black\" points=\"177.34,-217.55 190.39,-217.55\"/>\n",
       "<polyline fill=\"none\" stroke=\"black\" points=\"229.58,-226.88 236.09,-235.15\"/>\n",
       "<polyline fill=\"none\" stroke=\"black\" points=\"236.08,-241.85 229.35,-248.56\"/>\n",
       "<polyline fill=\"none\" stroke=\"black\" points=\"138.38,-248.56 131.66,-241.85\"/>\n",
       "<polyline fill=\"none\" stroke=\"black\" points=\"131.64,-235.15 138.15,-226.88\"/>\n",
       "<text text-anchor=\"middle\" x=\"183.87\" y=\"-229.32\" font-family=\"Times,serif\" font-size=\"14.00\">Image</text>\n",
       "</g>\n",
       "<!-- In0&#45;&gt;0 -->\n",
       "<g id=\"edge1\" class=\"edge\">\n",
       "<title>In0&#45;&gt;0</title>\n",
       "<path fill=\"none\" stroke=\"black\" d=\"M183.87,-215.7C183.87,-208.24 183.87,-199.32 183.87,-190.97\"/>\n",
       "<polygon fill=\"black\" stroke=\"black\" points=\"187.37,-191.1 183.87,-181.1 180.37,-191.1 187.37,-191.1\"/>\n",
       "</g>\n",
       "</g>\n",
       "</svg>\n"
      ],
      "text/plain": [
       "<graphviz.graphs.Digraph at 0x7fc5e8565e90>"
      ]
     },
     "execution_count": 4,
     "metadata": {},
     "output_type": "execute_result"
    }
   ],
   "source": [
    "# General network\n",
    "R = 20.0    # range of network activity (mV)\n",
    "neuron_type = NonSpikingNeuron()    # generic neuron type\n",
    "net = Network(name='Visual Network')    # create an empty network\n",
    "\n",
    "# Retina\n",
    "net.add_population(neuron_type,shape,name='Retina') # add a 2d population the same size as the scaled image\n",
    "net.add_input('Retina', size=flat_size,name='Image')    # add a vector input for the flattened scaled image\n",
    "net.add_output('Retina',name='Retina Output')  # add a vector output from the retina, scaled correctly\n",
    "\n",
    "# Lamina\n",
    "net.add_population(neuron_type,shape,name='Lamina')\n",
    "\n",
    "del_e_ex = 160.0    # excitatory reversal potential\n",
    "del_e_in = -80.0    # inhibitory reversal potential\n",
    "k_ex = 1.0  # excitatory gain\n",
    "k_in = -1.0/9.0 # inhibitory gain\n",
    "g_max_ex = (k_ex*R)/(del_e_ex-k_ex*R)   # calculate excitatory conductance\n",
    "g_max_in = (k_in*R)/(del_e_in-k_in*R)   # calculate inhibitory conductance\n",
    "\n",
    "g_max_kernel = np.array([[g_max_in, g_max_in, g_max_in],    # kernel matrix of synaptic conductances\n",
    "                         [g_max_in, g_max_ex, g_max_in],\n",
    "                         [g_max_in, g_max_in, g_max_in]])\n",
    "del_e_kernel = np.array([[del_e_in, del_e_in, del_e_in],    # kernel matrix of synaptic reversal potentials\n",
    "                         [del_e_in, del_e_ex, del_e_in],\n",
    "                         [del_e_in, del_e_in, del_e_in]])\n",
    "e_lo_kernel = np.zeros([3,3])\n",
    "e_hi_kernel = np.zeros([3,3]) + R\n",
    "connection_hpf = NonSpikingPatternConnection(g_max_kernel,del_e_kernel,e_lo_kernel,e_hi_kernel) # pattern connection (acts as high pass filter)\n",
    "net.add_connection(connection_hpf,'Retina','Lamina',name='HPF') # connect the retina to the lamina\n",
    "net.add_output('Lamina',name='Lamina Output')  # add a vector output from the lamina\n",
    "\n",
    "img_flat = img_flat*R/255.0 # scale all the intensities from 0-255 to 0-R\n",
    "render(net)"
   ]
  },
  {
   "cell_type": "code",
   "execution_count": 5,
   "metadata": {},
   "outputs": [],
   "source": [
    "comp = net.compile(dt=5,backend='torch')"
   ]
  },
  {
   "cell_type": "code",
   "execution_count": 6,
   "metadata": {},
   "outputs": [],
   "source": [
    "# New ConductanceNetwork Construction\n",
    "dt = comp.dt #torch.ones(shape[0], dtype=torch.float)\n",
    "C_mem = comp.c_m #torch.rand(shape[0], dtype=torch.float)\n",
    "G_mem = comp.g_m #torch.rand(shape[0], dtype=torch.float)\n",
    "b_mem = comp.i_b #torch.rand(shape[0], dtype=torch.float)\n",
    "Esyn = comp.del_e #torch.randn(shape, dtype=torch.float)\n",
    "network_shape = [1024,1024]\n",
    "# Retina layer\n",
    "retina_dt = 5.0 * torch.ones(network_shape[0], dtype=torch.float)\n",
    "retina_C_mem = 5.0 * torch.ones(network_shape[0], dtype=torch.float)\n",
    "retina_G_mem = torch.ones(network_shape[0], dtype=torch.float)\n",
    "retina_b_mem = torch.zeros(network_shape[0], dtype=torch.float)\n",
    "retina_Esyn = torch.zeros(network_shape, dtype=torch.float)\n",
    "retina_Gsyn = lambda x: torch.zeros_like(x, dtype=torch.float)\n",
    "retina_layer = ConductanceLayerMulti(n_prev=flat_size, n=flat_size,\n",
    "                                     dt=retina_dt, C_mem=retina_C_mem,\n",
    "                                     G_mem=retina_G_mem, b_mem=retina_b_mem,\n",
    "                                     Esyn_self=retina_Esyn, Gsyn_self=retina_Gsyn, is_first=True)\n",
    "\n",
    "layer_Esyn = torch.tensor(sns_toolbox.networks.__kernel_connections_2d__(shape,del_e_kernel,fill_value=0.0))\n",
    "layer_Gsyn = GsynModule(shape,activation_fn=lambda x: torch.clamp(x, min=0, max=1),\n",
    "                        G_max=torch.ones(network_shape)*R,\n",
    "                        G_min=torch.zeros(network_shape),\n",
    "                        G_scale=torch.tensor(sns_toolbox.networks.__kernel_connections_2d__(shape,g_max_kernel,fill_value=0.0))\n",
    ")\n",
    "\n",
    "# Lamina layer\n",
    "lamina_dt = 5.0 * torch.ones(network_shape[0], dtype=torch.float)\n",
    "lamina_C_mem = 5.0 * torch.ones(network_shape[0], dtype=torch.float)\n",
    "lamina_G_mem = torch.ones(network_shape[0], dtype=torch.float)\n",
    "lamina_b_mem = torch.zeros(network_shape[0], dtype=torch.float)\n",
    "lamina_Esyn = torch.zeros(network_shape, dtype=torch.float)\n",
    "lamina_Gsyn = lambda x: torch.zeros_like(x, dtype=torch.float)\n",
    "lamina_layer = ConductanceLayerMulti(n_prev=flat_size, n=flat_size,\n",
    "                                     dt=lamina_dt, C_mem=lamina_C_mem,\n",
    "                                     G_mem=lamina_G_mem, b_mem=lamina_b_mem,\n",
    "                                     Esyn_self=lamina_Esyn, Gsyn_self=lamina_Gsyn,\n",
    "                                     Esyn_prev=layer_Esyn, Gsyn_prev=layer_Gsyn)\n",
    "\n",
    "\n",
    "# Construct the ConductanceNetwork\n",
    "layers = [retina_layer, lamina_layer]\n",
    "network = ConductanceNetwork(layers)"
   ]
  },
  {
   "cell_type": "code",
   "execution_count": 10,
   "metadata": {},
   "outputs": [
    {
     "ename": "AssertionError",
     "evalue": "Network states do not match",
     "output_type": "error",
     "traceback": [
      "\u001b[0;31m---------------------------------------------------------------------------\u001b[0m",
      "\u001b[0;31mAssertionError\u001b[0m                            Traceback (most recent call last)",
      "Cell \u001b[0;32mIn[10], line 6\u001b[0m\n\u001b[1;32m      4\u001b[0m ben_state \u001b[39m=\u001b[39m ben_state\u001b[39m.\u001b[39mdetach()\u001b[39m.\u001b[39mnumpy()\n\u001b[1;32m      5\u001b[0m \u001b[39m#\u001b[39;00m\n\u001b[0;32m----> 6\u001b[0m \u001b[39massert\u001b[39;00m np\u001b[39m.\u001b[39mallclose(will_state, ben_state, atol\u001b[39m=\u001b[39m\u001b[39m1e-3\u001b[39m), \u001b[39m\"\u001b[39m\u001b[39mNetwork states do not match\u001b[39m\u001b[39m\"\u001b[39m \u001b[39m#uhoh\u001b[39;00m\n",
      "\u001b[0;31mAssertionError\u001b[0m: Network states do not match"
     ]
    }
   ],
   "source": [
    "will_state = comp(torch.tensor(img_flat,dtype=torch.float))\n",
    "ben_state = network(torch.tensor(img_flat,dtype=torch.float))\n",
    "will_state = will_state.detach().numpy()[1024:]\n",
    "ben_state = ben_state.detach().numpy()\n",
    "#\n",
    "assert np.allclose(will_state, ben_state, atol=1e-3), \"Network states do not match\" #uhoh"
   ]
  },
  {
   "cell_type": "code",
   "execution_count": 8,
   "metadata": {},
   "outputs": [
    {
     "name": "stdout",
     "output_type": "stream",
     "text": [
      "3\n"
     ]
    }
   ],
   "source": [
    "img_shape = (32,32)\n",
    "t_max = 15\n",
    "steps = int(t_max/dt)\n",
    "print(steps)"
   ]
  },
  {
   "cell_type": "code",
   "execution_count": 9,
   "metadata": {},
   "outputs": [
    {
     "name": "stdout",
     "output_type": "stream",
     "text": [
      "1 / 3 steps\n",
      "2 / 3 steps\n",
      "3 / 3 steps\n"
     ]
    },
    {
     "data": {
      "image/png": "[encoded data removed]",
      "text/plain": [
       "<Figure size 640x480 with 4 Axes>"
      ]
     },
     "metadata": {},
     "output_type": "display_data"
    },
    {
     "data": {
      "image/png": "[encoded data removed]",
      "text/plain": [
       "<Figure size 640x480 with 4 Axes>"
      ]
     },
     "metadata": {},
     "output_type": "display_data"
    },
    {
     "data": {
      "image/png": "[encoded data removed]",
      "text/plain": [
       "<Figure size 640x480 with 4 Axes>"
      ]
     },
     "metadata": {},
     "output_type": "display_data"
    }
   ],
   "source": [
    "\n",
    "\n",
    "for i in range(steps):\n",
    "    print('%i / %i steps'%(i+1,steps))\n",
    "    plt.figure()    # create a figure for live plotting the retina and lamina states\n",
    "    plt.subplot(1,4,1)\n",
    "    plt.title('Retina_Will')\n",
    "    plt.axis('off')\n",
    "    plt.subplot(1,4,2)\n",
    "    plt.title('Lamina_Will')\n",
    "    plt.axis('off')\n",
    "    plt.subplot(1,4,3)\n",
    "    plt.title('Retina_Ben')\n",
    "    plt.axis('off')\n",
    "    plt.subplot(1,4,4)\n",
    "    plt.title('Lamina_Ben')\n",
    "    plt.axis('off')\n",
    "    \n",
    "    \n",
    "    will_out = comp(torch.tensor(img_flat,dtype=torch.float))   # run the network for one dt\n",
    "    will_retina = out[:flat_size].detach().numpy()    # separate the retina and lamina states\n",
    "    will_lamina = out[flat_size:].detach().numpy()\n",
    "    will_retina_reshape = np.reshape(retina,img_shape)   # reshape to from flat to an image\n",
    "    will_lamina_reshape = np.reshape(lamina,img_shape)\n",
    "    plt.subplot(1,4,1)  # plot the current state\n",
    "    plt.imshow(will_retina_reshape,cmap='gray')\n",
    "    plt.subplot(1, 4, 2)\n",
    "    plt.imshow(will_lamina_reshape, cmap='gray')\n",
    "    comp = net.compile(dt=5,backend='torch')comp = netcomp = net.compile(dt=5,backend='torch')comp = net.compile(dt=5,backend='torch')comp = net.compile(dt=5,backend='torch')comp = net.compile(dt=5,backend='torch')comp = net.compile(dt=5,backend='torch')comp = net.compile(dt=5,backend='torch')comp = net.compile(dt=5,backend='torch')comp = net.compile(dt=5,backend='torch')comp = net.compile(dt=5,backend='torch')comp = net.compile(dt=5,backend='torch').compile(dt=5,backend='torch')\n",
    "    comp = net.compile(dt=5,backend='torch')comp = netnetnetnetnetnetnetnetnetnetnetnetnetnetnetnetnetnetnetnet.compile(dt=5,backend='torch')\n",
    "    ben_out = network(torch.tensor(img_flat,dtype=torch.float))   # run the network for one dt\n",
    "    ben_retina = network.current_states[0].detach().numpy()  # separate the retina and lamina states\n",
    "    ben_lamina = out.detach().numpy()netnetnetnetnetnenetnetnetnetnetnetnetnettnetnetnetnetnetnetnetnenetnetnetnetnetnetnetnettnetnetnenetnetnetnetnetnenetnetnetnetnetnetnetnettnetnetnetnetnetnetnetnenetnetnetnetnetnetnetnettnetnetnetnetnetnetnetnenetnetnetnetnetnetnetnettnetnetnetnetnetnetnetnenetnetnetnetnetnetnetnettnetnetnetnetnetnetnetnenetnetnetnetnetnetnetnettnetnetnetnetnetnetnetnenetnetnetnetnetnetnetnettnetnetnetnetnetnetnetnenetnetnetnetnetnetnetnettnetnettnetnetnetnetnenetnetnetnetnetnetnetnettnetnet\n",
    "    ben_retina_reshape = np.reshape(retina,img_shape)   # reshape to from flat to an imagenetnetnetnetnetnenetnetnetnetnetnetnetnettnetnet\n",
    "    ben_lamina_reshape = np.reshape(lamina,img_shape)\n",
    "    plt.subplot(1,4,3)  # plot the current state\n",
    "    plt.imshow(retina_reshape,cmap='gray')\n",
    "    plt.subplot(1, 4, 4)\n",
    "    plt.imshow(lamina_reshape, cmap='gray')"
   ]
  }
 ],
 "metadata": {
  "kernelspec": {
   "display_name": "Python (Trainable SNS)",
   "language": "python",
   "name": "trainable-sns"
  },
  "language_info": {
   "codemirror_mode": {
    "name": "ipython",
    "version": 3
   },
   "file_extension": ".py",
   "mimetype": "text/x-python",
   "name": "python",
   "nbconvert_exporter": "python",
   "pygments_lexer": "ipython3",
   "version": "3.11.5"
  },
  "orig_nbformat": 4
 },
 "nbformat": 4,
 "nbformat_minor": 2
}
